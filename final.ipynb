{
 "cells": [
  {
   "cell_type": "code",
   "execution_count": 1,
   "metadata": {},
   "outputs": [],
   "source": [
    "import librosa"
   ]
  },
  {
   "cell_type": "code",
   "execution_count": 2,
   "metadata": {},
   "outputs": [],
   "source": [
    "import librosa.display"
   ]
  },
  {
   "cell_type": "code",
   "execution_count": 3,
   "metadata": {},
   "outputs": [
    {
     "name": "stderr",
     "output_type": "stream",
     "text": [
      "Using TensorFlow backend.\n"
     ]
    }
   ],
   "source": [
    "# Importing the Keras libraries and packages\n",
    "from keras.models import Sequential\n",
    "from keras.layers import Convolution2D\n",
    "from keras.layers import MaxPooling2D\n",
    "from keras.layers import Flatten\n",
    "from keras.layers import Dense\n"
   ]
  },
  {
   "cell_type": "markdown",
   "metadata": {},
   "source": [
    "### Here is a helper function for converting .wav sound files into melspectrogram\n",
    "I have used **melspectrogram** here beacuse I felt it was more visually intuitive than others like mfcc although i would encourage you to try out others!!\n",
    "But in order for this to work we have to make some folders to pass in the appropriate path:\n",
    " sound data<br>\n",
    "-------------            train<br>\n",
    "------------------                  dogs<br>\n",
    "------------------                 cats<br>\n",
    "-------------            test<br>\n",
    "------------------                dogs<br>\n",
    "------------------                 cats<br>\n",
    "                 "
   ]
  },
  {
   "cell_type": "code",
   "execution_count": null,
   "metadata": {},
   "outputs": [],
   "source": [
    "def save_fig_dog(loc,train_or_test,cat_or_dog,start,stop):\n",
    "    if cat_or_dog==\"dog\":\n",
    "        for i in range(start,stop):\n",
    "            a=loc+\"dog_barking_{}.wav\".format(i)\n",
    "            y,sr=librosa.load(a)\n",
    "            M=librosa.feature.melspectrogram(y=y)\n",
    "            plt.plot(M)\n",
    "            plt.savefig('sound data/{}/dogs/dog{}'.format(train_or_test,i),dpi=400, bbox_inches='tight',pad_inches=0)\n",
    "            plt.close()\n",
    "        print(\"done\")\n",
    "    elif cat_or_dog==\"cat\":\n",
    "        for i in range(start,stop):\n",
    "            a=loc+\"cat_{}.wav\".format(i)\n",
    "            y,sr=librosa.load(a)\n",
    "            M=librosa.feature.melspectrogram(y=y)\n",
    "            plt.plot(M)\n",
    "            M=librosa.feature.melspectrogram(y=y)\n",
    "            plt.savefig('sound data/{}/cats/cat{}'.format(train_or_test,i),dpi=400, bbox_inches='tight',pad_inches=0)\n",
    "            plt.close()\n",
    "        print(\"done\")\n",
    "    else:\n",
    "        print(\"error\")   "
   ]
  },
  {
   "cell_type": "code",
   "execution_count": 4,
   "metadata": {},
   "outputs": [
    {
     "name": "stderr",
     "output_type": "stream",
     "text": [
      "WARNING: Logging before flag parsing goes to stderr.\n",
      "W0205 01:14:01.517208 13136 module_wrapper.py:139] From D:\\Anaconda\\lib\\site-packages\\keras\\backend\\tensorflow_backend.py:74: The name tf.get_default_graph is deprecated. Please use tf.compat.v1.get_default_graph instead.\n",
      "\n",
      "D:\\Anaconda\\lib\\site-packages\\ipykernel_launcher.py:5: UserWarning: Update your `Conv2D` call to the Keras 2 API: `Conv2D(32, (3, 3), input_shape=(64, 64, 3..., activation=\"relu\")`\n",
      "  \"\"\"\n",
      "W0205 01:14:01.520201 13136 module_wrapper.py:139] From D:\\Anaconda\\lib\\site-packages\\keras\\backend\\tensorflow_backend.py:517: The name tf.placeholder is deprecated. Please use tf.compat.v1.placeholder instead.\n",
      "\n",
      "W0205 01:14:01.524221 13136 module_wrapper.py:139] From D:\\Anaconda\\lib\\site-packages\\keras\\backend\\tensorflow_backend.py:4138: The name tf.random_uniform is deprecated. Please use tf.random.uniform instead.\n",
      "\n",
      "W0205 01:14:01.538184 13136 module_wrapper.py:139] From D:\\Anaconda\\lib\\site-packages\\keras\\backend\\tensorflow_backend.py:3976: The name tf.nn.max_pool is deprecated. Please use tf.nn.max_pool2d instead.\n",
      "\n",
      "D:\\Anaconda\\lib\\site-packages\\ipykernel_launcher.py:11: UserWarning: Update your `Conv2D` call to the Keras 2 API: `Conv2D(32, (3, 3), activation=\"relu\")`\n",
      "  # This is added back by InteractiveShellApp.init_path()\n",
      "D:\\Anaconda\\lib\\site-packages\\ipykernel_launcher.py:18: UserWarning: Update your `Dense` call to the Keras 2 API: `Dense(activation=\"relu\", units=128)`\n",
      "D:\\Anaconda\\lib\\site-packages\\ipykernel_launcher.py:19: UserWarning: Update your `Dense` call to the Keras 2 API: `Dense(activation=\"sigmoid\", units=1)`\n",
      "W0205 01:14:01.584029 13136 module_wrapper.py:139] From D:\\Anaconda\\lib\\site-packages\\keras\\optimizers.py:790: The name tf.train.Optimizer is deprecated. Please use tf.compat.v1.train.Optimizer instead.\n",
      "\n",
      "W0205 01:14:01.600478 13136 module_wrapper.py:139] From D:\\Anaconda\\lib\\site-packages\\keras\\backend\\tensorflow_backend.py:3376: The name tf.log is deprecated. Please use tf.math.log instead.\n",
      "\n",
      "W0205 01:14:01.605437 13136 deprecation.py:323] From D:\\Anaconda\\lib\\site-packages\\tensorflow_core\\python\\ops\\nn_impl.py:183: where (from tensorflow.python.ops.array_ops) is deprecated and will be removed in a future version.\n",
      "Instructions for updating:\n",
      "Use tf.where in 2.0, which has the same broadcast rule as np.where\n"
     ]
    }
   ],
   "source": [
    "#Initialising the CNN\n",
    "classifier = Sequential()\n",
    "\n",
    "# Step 1 - Convolution\n",
    "classifier.add(Convolution2D(32, 3, 3, input_shape = (64,64, 3), activation = 'relu'))\n",
    "\n",
    "# Step 2 - Pooling\n",
    "classifier.add(MaxPooling2D(pool_size = (2, 2)))\n",
    "\n",
    "# Adding a second convolutional layer\n",
    "classifier.add(Convolution2D(32, 3, 3, activation = 'relu'))\n",
    "classifier.add(MaxPooling2D(pool_size = (2, 2)))\n",
    "\n",
    "# Step 3 - Flattening\n",
    "classifier.add(Flatten())\n",
    "\n",
    "# Step 4 - Full connection\n",
    "classifier.add(Dense(output_dim = 128, activation = 'relu'))\n",
    "classifier.add(Dense(output_dim = 1, activation = 'sigmoid'))\n",
    "\n",
    "# Compiling the CNN\n",
    "classifier.compile(optimizer = 'adam', loss = 'binary_crossentropy', metrics = ['accuracy'])"
   ]
  },
  {
   "cell_type": "code",
   "execution_count": 5,
   "metadata": {},
   "outputs": [],
   "source": [
    "from keras.preprocessing.image import ImageDataGenerator"
   ]
  },
  {
   "cell_type": "code",
   "execution_count": 6,
   "metadata": {},
   "outputs": [
    {
     "name": "stdout",
     "output_type": "stream",
     "text": [
      "Found 207 images belonging to 2 classes.\n",
      "Found 69 images belonging to 2 classes.\n"
     ]
    }
   ],
   "source": [
    "from keras.preprocessing.image import ImageDataGenerator\n",
    "\n",
    "# Data Augmentation\n",
    "\n",
    "train_datagen = ImageDataGenerator(rescale = 1./255)\n",
    "\n",
    "test_datagen = ImageDataGenerator(rescale = 1./255)\n",
    "\n",
    "training_set = train_datagen.flow_from_directory('sound data/train',\n",
    "                                                 target_size = (64,64),\n",
    "                                                 batch_size = 16,\n",
    "                                                 class_mode = 'binary')\n",
    "\n",
    "test_set = test_datagen.flow_from_directory('sound data/test',\n",
    "                                            target_size = (64,64),\n",
    "                                            batch_size = 16,\n",
    "                                            class_mode = 'binary')\n",
    "\n"
   ]
  },
  {
   "cell_type": "code",
   "execution_count": 7,
   "metadata": {},
   "outputs": [
    {
     "name": "stderr",
     "output_type": "stream",
     "text": [
      "D:\\Anaconda\\lib\\site-packages\\ipykernel_launcher.py:5: UserWarning: The semantics of the Keras 2 argument `steps_per_epoch` is not the same as the Keras 1 argument `samples_per_epoch`. `steps_per_epoch` is the number of batches to draw from the generator at each epoch. Basically steps_per_epoch = samples_per_epoch/batch_size. Similarly `nb_val_samples`->`validation_steps` and `val_samples`->`steps` arguments have changed. Update your method calls accordingly.\n",
      "  \"\"\"\n",
      "D:\\Anaconda\\lib\\site-packages\\ipykernel_launcher.py:5: UserWarning: Update your `fit_generator` call to the Keras 2 API: `fit_generator(<keras_pre..., validation_data=<keras_pre..., steps_per_epoch=12, epochs=9, validation_steps=69)`\n",
      "  \"\"\"\n",
      "W0205 01:14:01.994136 13136 module_wrapper.py:139] From D:\\Anaconda\\lib\\site-packages\\keras\\backend\\tensorflow_backend.py:986: The name tf.assign_add is deprecated. Please use tf.compat.v1.assign_add instead.\n",
      "\n",
      "W0205 01:14:02.085653 13136 module_wrapper.py:139] From D:\\Anaconda\\lib\\site-packages\\keras\\backend\\tensorflow_backend.py:973: The name tf.assign is deprecated. Please use tf.compat.v1.assign instead.\n",
      "\n",
      "W0205 01:14:02.164474 13136 module_wrapper.py:139] From D:\\Anaconda\\lib\\site-packages\\keras\\backend\\tensorflow_backend.py:2741: The name tf.Session is deprecated. Please use tf.compat.v1.Session instead.\n",
      "\n"
     ]
    },
    {
     "name": "stdout",
     "output_type": "stream",
     "text": [
      "Epoch 1/9\n"
     ]
    },
    {
     "name": "stderr",
     "output_type": "stream",
     "text": [
      "W0205 01:14:02.718940 13136 module_wrapper.py:139] From D:\\Anaconda\\lib\\site-packages\\keras\\backend\\tensorflow_backend.py:174: The name tf.get_default_session is deprecated. Please use tf.compat.v1.get_default_session instead.\n",
      "\n",
      "W0205 01:14:02.718940 13136 module_wrapper.py:139] From D:\\Anaconda\\lib\\site-packages\\keras\\backend\\tensorflow_backend.py:181: The name tf.ConfigProto is deprecated. Please use tf.compat.v1.ConfigProto instead.\n",
      "\n",
      "W0205 01:14:02.926058 13136 module_wrapper.py:139] From D:\\Anaconda\\lib\\site-packages\\keras\\backend\\tensorflow_backend.py:190: The name tf.global_variables is deprecated. Please use tf.compat.v1.global_variables instead.\n",
      "\n",
      "W0205 01:14:02.926058 13136 module_wrapper.py:139] From D:\\Anaconda\\lib\\site-packages\\keras\\backend\\tensorflow_backend.py:199: The name tf.is_variable_initialized is deprecated. Please use tf.compat.v1.is_variable_initialized instead.\n",
      "\n",
      "W0205 01:14:02.991540 13136 module_wrapper.py:139] From D:\\Anaconda\\lib\\site-packages\\keras\\backend\\tensorflow_backend.py:206: The name tf.variables_initializer is deprecated. Please use tf.compat.v1.variables_initializer instead.\n",
      "\n"
     ]
    },
    {
     "name": "stdout",
     "output_type": "stream",
     "text": [
      "12/12 [==============================] - 32s 3s/step - loss: 0.8547 - acc: 0.4531 - val_loss: 0.6775 - val_acc: 0.5931\n",
      "Epoch 2/9\n",
      "12/12 [==============================] - 30s 3s/step - loss: 0.6702 - acc: 0.6128 - val_loss: 0.6542 - val_acc: 0.5937\n",
      "Epoch 3/9\n",
      "12/12 [==============================] - 30s 3s/step - loss: 0.6407 - acc: 0.6646 - val_loss: 0.5845 - val_acc: 0.8537\n",
      "Epoch 4/9\n",
      "12/12 [==============================] - 30s 3s/step - loss: 0.4869 - acc: 0.7857 - val_loss: 0.4130 - val_acc: 0.9000\n",
      "Epoch 5/9\n",
      "12/12 [==============================] - 30s 3s/step - loss: 0.3316 - acc: 0.8792 - val_loss: 0.3415 - val_acc: 0.9137\n",
      "Epoch 6/9\n",
      "12/12 [==============================] - 31s 3s/step - loss: 0.2934 - acc: 0.8952 - val_loss: 0.3198 - val_acc: 0.8845\n",
      "Epoch 7/9\n",
      "12/12 [==============================] - 30s 3s/step - loss: 0.2773 - acc: 0.9000 - val_loss: 0.3158 - val_acc: 0.8695\n",
      "Epoch 8/9\n",
      "12/12 [==============================] - 30s 3s/step - loss: 0.2093 - acc: 0.9261 - val_loss: 0.4314 - val_acc: 0.8453\n",
      "Epoch 9/9\n",
      "12/12 [==============================] - 30s 3s/step - loss: 0.1649 - acc: 0.9368 - val_loss: 0.4638 - val_acc: 0.8505\n"
     ]
    },
    {
     "data": {
      "text/plain": [
       "<keras.callbacks.History at 0x291d2afc240>"
      ]
     },
     "execution_count": 7,
     "metadata": {},
     "output_type": "execute_result"
    }
   ],
   "source": [
    "classifier.fit_generator(training_set,# the training set\n",
    "                         samples_per_epoch = 207,\n",
    "                         nb_epoch = 9,# number of epochs \n",
    "                         validation_data = test_set,# the test set\n",
    "                         nb_val_samples = 69)"
   ]
  },
  {
   "cell_type": "markdown",
   "metadata": {},
   "source": [
    "## The training Accuracy is 93.7% and validation accuracy is 85% which is again pretty good considering the simplicity of the Neural Network Architecture used here"
   ]
  }
 ],
 "metadata": {
  "kernelspec": {
   "display_name": "Python 3",
   "language": "python",
   "name": "python3"
  },
  "language_info": {
   "codemirror_mode": {
    "name": "ipython",
    "version": 3
   },
   "file_extension": ".py",
   "mimetype": "text/x-python",
   "name": "python",
   "nbconvert_exporter": "python",
   "pygments_lexer": "ipython3",
   "version": "3.7.3"
  }
 },
 "nbformat": 4,
 "nbformat_minor": 2
}
